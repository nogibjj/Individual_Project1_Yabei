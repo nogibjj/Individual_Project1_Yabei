{
 "cells": [
  {
   "cell_type": "markdown",
   "id": "f01880ad-7b8c-487e-ba5f-7adf713872dd",
   "metadata": {},
   "source": [
    "# Project2 Pandas Script"
   ]
  },
  {
   "cell_type": "markdown",
   "id": "bdaa85d3-0c4a-4a2f-9949-ffc9286a0b83",
   "metadata": {},
   "source": [
    "Author: Yabei Zeng"
   ]
  },
  {
   "cell_type": "markdown",
   "id": "9add5c2a-44ec-4360-b571-e8c2306a4fdf",
   "metadata": {},
   "source": [
    "### First Step Loading Packages"
   ]
  },
  {
   "cell_type": "code",
   "execution_count": 11,
   "id": "a5ecf548-3c3b-4112-82c0-d7bcd26a6886",
   "metadata": {},
   "outputs": [],
   "source": [
    "import pandas as pd\n",
    "import seaborn as sns\n",
    "import matplotlib.pyplot as plt"
   ]
  },
  {
   "cell_type": "markdown",
   "id": "632fb504-c8c6-4f37-9411-306a47fd6b8c",
   "metadata": {},
   "source": [
    "### Second Step loading data"
   ]
  },
  {
   "cell_type": "code",
   "execution_count": 12,
   "id": "454bfcb2-01d7-48ee-b933-d815fc065993",
   "metadata": {},
   "outputs": [],
   "source": [
    "data = pd.read_csv('cars.csv', sep=';')"
   ]
  },
  {
   "cell_type": "code",
   "execution_count": 13,
   "id": "fe7da1d3-4c1c-4c6f-ba47-dbab65550a89",
   "metadata": {},
   "outputs": [
    {
     "data": {
      "text/html": [
       "<div>\n",
       "<style scoped>\n",
       "    .dataframe tbody tr th:only-of-type {\n",
       "        vertical-align: middle;\n",
       "    }\n",
       "\n",
       "    .dataframe tbody tr th {\n",
       "        vertical-align: top;\n",
       "    }\n",
       "\n",
       "    .dataframe thead th {\n",
       "        text-align: right;\n",
       "    }\n",
       "</style>\n",
       "<table border=\"1\" class=\"dataframe\">\n",
       "  <thead>\n",
       "    <tr style=\"text-align: right;\">\n",
       "      <th></th>\n",
       "      <th>Car</th>\n",
       "      <th>MPG</th>\n",
       "      <th>Cylinders</th>\n",
       "      <th>Displacement</th>\n",
       "      <th>Horsepower</th>\n",
       "      <th>Weight</th>\n",
       "      <th>Acceleration</th>\n",
       "      <th>Model</th>\n",
       "      <th>Origin</th>\n",
       "    </tr>\n",
       "  </thead>\n",
       "  <tbody>\n",
       "    <tr>\n",
       "      <th>0</th>\n",
       "      <td>Chevrolet Chevelle Malibu</td>\n",
       "      <td>18.0</td>\n",
       "      <td>8</td>\n",
       "      <td>307.0</td>\n",
       "      <td>130.0</td>\n",
       "      <td>3504.0</td>\n",
       "      <td>12.0</td>\n",
       "      <td>70</td>\n",
       "      <td>US</td>\n",
       "    </tr>\n",
       "    <tr>\n",
       "      <th>1</th>\n",
       "      <td>Buick Skylark 320</td>\n",
       "      <td>15.0</td>\n",
       "      <td>8</td>\n",
       "      <td>350.0</td>\n",
       "      <td>165.0</td>\n",
       "      <td>3693.0</td>\n",
       "      <td>11.5</td>\n",
       "      <td>70</td>\n",
       "      <td>US</td>\n",
       "    </tr>\n",
       "    <tr>\n",
       "      <th>2</th>\n",
       "      <td>Plymouth Satellite</td>\n",
       "      <td>18.0</td>\n",
       "      <td>8</td>\n",
       "      <td>318.0</td>\n",
       "      <td>150.0</td>\n",
       "      <td>3436.0</td>\n",
       "      <td>11.0</td>\n",
       "      <td>70</td>\n",
       "      <td>US</td>\n",
       "    </tr>\n",
       "    <tr>\n",
       "      <th>3</th>\n",
       "      <td>AMC Rebel SST</td>\n",
       "      <td>16.0</td>\n",
       "      <td>8</td>\n",
       "      <td>304.0</td>\n",
       "      <td>150.0</td>\n",
       "      <td>3433.0</td>\n",
       "      <td>12.0</td>\n",
       "      <td>70</td>\n",
       "      <td>US</td>\n",
       "    </tr>\n",
       "    <tr>\n",
       "      <th>4</th>\n",
       "      <td>Ford Torino</td>\n",
       "      <td>17.0</td>\n",
       "      <td>8</td>\n",
       "      <td>302.0</td>\n",
       "      <td>140.0</td>\n",
       "      <td>3449.0</td>\n",
       "      <td>10.5</td>\n",
       "      <td>70</td>\n",
       "      <td>US</td>\n",
       "    </tr>\n",
       "  </tbody>\n",
       "</table>\n",
       "</div>"
      ],
      "text/plain": [
       "                         Car   MPG  Cylinders  Displacement  Horsepower  \\\n",
       "0  Chevrolet Chevelle Malibu  18.0          8         307.0       130.0   \n",
       "1          Buick Skylark 320  15.0          8         350.0       165.0   \n",
       "2         Plymouth Satellite  18.0          8         318.0       150.0   \n",
       "3              AMC Rebel SST  16.0          8         304.0       150.0   \n",
       "4                Ford Torino  17.0          8         302.0       140.0   \n",
       "\n",
       "   Weight  Acceleration  Model Origin  \n",
       "0  3504.0          12.0     70     US  \n",
       "1  3693.0          11.5     70     US  \n",
       "2  3436.0          11.0     70     US  \n",
       "3  3433.0          12.0     70     US  \n",
       "4  3449.0          10.5     70     US  "
      ]
     },
     "execution_count": 13,
     "metadata": {},
     "output_type": "execute_result"
    }
   ],
   "source": [
    "#glimpse data\n",
    "data.head()"
   ]
  },
  {
   "cell_type": "markdown",
   "id": "532149e8-7236-4e7a-b581-b1a3e67eb19d",
   "metadata": {},
   "source": [
    "### Third Step: Data Summary (with mean, median, std, quantiles, min, max for all columns)"
   ]
  },
  {
   "cell_type": "code",
   "execution_count": 14,
   "id": "bbfe10b9-54a2-42fa-af3d-92d7c80ee9ab",
   "metadata": {},
   "outputs": [
    {
     "name": "stdout",
     "output_type": "stream",
     "text": [
      "              MPG   Cylinders  Displacement  Horsepower       Weight  \\\n",
      "count  406.000000  406.000000    406.000000  406.000000   406.000000   \n",
      "mean    23.051232    5.475369    194.779557  103.529557  2979.413793   \n",
      "std      8.401777    1.712160    104.922458   40.520659   847.004328   \n",
      "min      0.000000    3.000000     68.000000    0.000000  1613.000000   \n",
      "25%     17.000000    4.000000    105.000000   75.000000  2226.500000   \n",
      "50%     22.350000    4.000000    151.000000   93.500000  2822.500000   \n",
      "75%     29.000000    8.000000    302.000000  129.000000  3618.250000   \n",
      "max     46.600000    8.000000    455.000000  230.000000  5140.000000   \n",
      "\n",
      "       Acceleration       Model  \n",
      "count    406.000000  406.000000  \n",
      "mean      15.519704   75.921182  \n",
      "std        2.803359    3.748737  \n",
      "min        8.000000   70.000000  \n",
      "25%       13.700000   73.000000  \n",
      "50%       15.500000   76.000000  \n",
      "75%       17.175000   79.000000  \n",
      "max       24.800000   82.000000  \n"
     ]
    }
   ],
   "source": [
    "main_sum = data.describe()\n",
    "print(main_sum)"
   ]
  },
  {
   "cell_type": "markdown",
   "id": "04103c85-7a57-4a14-b04d-fb772793a84a",
   "metadata": {},
   "source": [
    "### Fourth Step: Data Visualization"
   ]
  },
  {
   "cell_type": "code",
   "execution_count": 15,
   "id": "6d207193-ace8-4ece-ad14-d4b7c24192ac",
   "metadata": {},
   "outputs": [
    {
     "data": {
      "image/png": "[encoded data removed]",
      "text/plain": [
       "<Figure size 640x480 with 1 Axes>"
      ]
     },
     "metadata": {},
     "output_type": "display_data"
    }
   ],
   "source": [
    "mean = data['Weight'].mean()\n",
    "median = data['Weight'].median()\n",
    "quantile25 = data['Weight'].quantile(.25)\n",
    "quantile75 = data['Weight'].quantile(.75)\n",
    "\n",
    "plot = sns.histplot(data[\"Weight\"], kde=True, color=\"blue\", label=\"Weight\")\n",
    "\n",
    "plot.axvline(mean, color=\"y\", linestyle='-', label='Mean')\n",
    "plot.axvline(median, color=\"g\", linestyle='-', label='Median')\n",
    "plot.axvline(quantile25, color=\"r\", linestyle='-', label='25% quantile')\n",
    "plot.axvline(quantile75, color=\"b\", linestyle='-', label='75% quantile')\n",
    "# Create legend\n",
    "plot.legend()\n",
    "\n",
    "plt.show()"
   ]
  },
  {
   "cell_type": "markdown",
   "id": "a24bdf40-05d9-467d-92ec-cc7b0db55583",
   "metadata": {},
   "source": [
    "### Some Conclusion\n",
    "* In this data summary and visualiztaion, we can tell that the weight(the column/variable we interested) is a right-skewed distribution.\n",
    "* This variable has mean around 3000, median around 2700, 25% quantile around 2400, and 75% quantile around 3600."
   ]
  },
  {
   "cell_type": "code",
   "execution_count": null,
   "id": "40830142-8aba-4423-ad8d-de74aa7f38fb",
   "metadata": {},
   "outputs": [],
   "source": []
  }
 ],
 "metadata": {
  "kernelspec": {
   "display_name": "Python 3 (ipykernel)",
   "language": "python",
   "name": "python3"
  },
  "language_info": {
   "codemirror_mode": {
    "name": "ipython",
    "version": 3
   },
   "file_extension": ".py",
   "mimetype": "text/x-python",
   "name": "python",
   "nbconvert_exporter": "python",
   "pygments_lexer": "ipython3",
   "version": "3.11.5"
  }
 },
 "nbformat": 4,
 "nbformat_minor": 5
}
